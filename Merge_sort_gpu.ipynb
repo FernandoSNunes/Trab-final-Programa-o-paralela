{
 "cells": [
  {
   "cell_type": "code",
   "execution_count": 2,
   "metadata": {},
   "outputs": [],
   "source": [
    "from time import time\n",
    "import pyopencl as cl\n",
    "import numpy\n",
    "import os\n",
    "import math\n"
   ]
  },
  {
   "cell_type": "code",
   "execution_count": 3,
   "metadata": {},
   "outputs": [],
   "source": [
    "#codigo original em https://www.ime.usp.br/~pf/algoritmos/aulas/mrgsrt.html"
   ]
  },
  {
   "cell_type": "code",
   "execution_count": null,
   "metadata": {},
   "outputs": [],
   "source": [
    "#implementação 1"
   ]
  },
  {
   "cell_type": "code",
   "execution_count": 32,
   "metadata": {},
   "outputs": [
    {
     "data": {
      "text/plain": [
       "array([708.4087  , 325.688   , 754.18604 , ...,  96.211426, 103.79126 ,\n",
       "       178.82837 ], dtype=float32)"
      ]
     },
     "execution_count": 32,
     "metadata": {},
     "output_type": "execute_result"
    }
   ],
   "source": [
    "#Vector size\n",
    "ORDER = 32768\n",
    "\n",
    "# Max dim for NDRange\n",
    "DIM = 1\n",
    "\n",
    "# number of times to do each ordenation\n",
    "COUNT = 10\n",
    "\n",
    "N = ORDER\n",
    "\n",
    "#criar um vetor de valores inteiros aleatorios\n",
    "h_V = numpy.random.random(ORDER).astype(numpy.float32) * 10000\n",
    "h_V = h_V%1000\n",
    "\n",
    "def error(N, V):\n",
    "    err = 0;\n",
    "    for i in range(N-1):\n",
    "        if V[i] > V[i+1]:\n",
    "            return 1\n",
    "    return 0\n",
    "\n",
    "def results(N, C, run_time):\n",
    "    print(run_time, \"seconds\")\n",
    "    errsq = error(N, C)\n",
    "    if (errsq > 0):\n",
    "        print(\"Wrong ordenation:\")\n",
    "h_V"
   ]
  },
  {
   "cell_type": "code",
   "execution_count": 33,
   "metadata": {},
   "outputs": [
    {
     "name": "stdout",
     "output_type": "stream",
     "text": [
      "DEVICE [<pyopencl.Device 'GeForce RTX 2060 SUPER' on 'NVIDIA CUDA' at 0x1d417ec6b30>]\n"
     ]
    }
   ],
   "source": [
    "# Setup OpenCL\n",
    "context = cl.create_some_context()\n",
    "print(\"DEVICE\", context.devices)\n",
    "\n",
    "queue = cl.CommandQueue(context)\n",
    "\n",
    "d_V = cl.Buffer(context, cl.mem_flags.READ_ONLY | cl.mem_flags.COPY_HOST_PTR, hostbuf=h_V)\n",
    "d_V_aux = cl.Buffer(context, cl.mem_flags.WRITE_ONLY, h_V.nbytes)\n",
    "d_V_result = cl.Buffer(context, cl.mem_flags.WRITE_ONLY, h_V.nbytes)"
   ]
  },
  {
   "cell_type": "code",
   "execution_count": 34,
   "metadata": {},
   "outputs": [
    {
     "name": "stdout",
     "output_type": "stream",
     "text": [
      "<<<KERNEL SOURCE>>>\n",
      " /*\n",
      "\tFernando Sassi Nunes\n",
      "\tCodigo orinal do merge sort obtido em :\thttps://www.ime.usp.br/~pf/algoritmos/aulas/mrgsrt.html\n",
      "\tprimeira implementaÃ§Ã£o do Merge Sort paralela\n",
      "*/\n",
      "\n",
      "static void intercala (int p, int q, int r, float v[], float w[])\n",
      "{\n",
      "   int i, j;\n",
      "   for (i = p; i < q; ++i) w[i] = v[i];\n",
      "   for (j = q; j < r; ++j) w[r+q-j-1] = v[j];\t\t\t\t//escreve na ordem inversa\n",
      "   i = p; j = r-1;\n",
      "   for (int k = p; k < r; ++k)\n",
      "      if (w[i] <= w[j]) v[k] = w[i++];\n",
      "      else v[k] = w[j--];\n",
      "}\n",
      "\n",
      "\n",
      "__kernel void merge_sort_gpu(\n",
      "\t\t\t const int    N,\n",
      "    __global       float* R,\n",
      "\t__global       float* w,\n",
      "\t__global       float* V)\n",
      "{\n",
      "\t\n",
      "    int p = get_global_id(0);\n",
      "\t//escreve em v os valores de R\n",
      "\tV[p] = R[p];\n",
      "\t\t\t\t\t\t\t\t\t\t\t\t\t\t\t\t//barreira para garantir que todo o vetor foi copiado\n",
      "\tbarrier(CLK_LOCAL_MEM_FENCE);\n",
      "\t\n",
      "    int current_size = 1;\n",
      "\twhile (current_size < N) {\n",
      "      if (p + current_size < N && (p)%(2*current_size) == 0) {\t//mantem apenas as threads que sÃ£o potencias de 2, \n",
      "         int r = p + 2*current_size;\t\t\t\t\t\t\t//eliminando metade delas a cada iteraÃ§Ã£o\n",
      "         if (r > N) r = N;\n",
      "         intercala (p, p+current_size, r, V, w);\n",
      "        }\n",
      "\t\tbarrier(CLK_LOCAL_MEM_FENCE);\t\t\t\t\t\t\t//garante que todas as threads ordenaram a sua parte\n",
      "\t\tcurrent_size = 2*current_size;\n",
      "    }\n",
      "}\n",
      "   \n",
      "\n",
      "\n",
      "===== OpenCL, mergesort of a float vector with size  32768 ======\n",
      "\n",
      "0.006981372833251953 seconds\n",
      "0.005984067916870117 seconds\n",
      "0.005983829498291016 seconds\n",
      "0.005983829498291016 seconds\n",
      "0.006981611251831055 seconds\n",
      "0.007979154586791992 seconds\n",
      "0.0069811344146728516 seconds\n",
      "0.006981611251831055 seconds\n",
      "0.006981372833251953 seconds\n",
      "0.006981611251831055 seconds\n"
     ]
    }
   ],
   "source": [
    "kernelsource = open(\"merge.cl\").read()\n",
    "print(\"<<<KERNEL SOURCE>>>\\n\", kernelsource)\n",
    "\n",
    "program = cl.Program(context, kernelsource).build()\n",
    "merge_sort_gpu = program.merge_sort_gpu\n",
    "merge_sort_gpu.set_scalar_arg_dtypes([numpy.int32, None, None, None])\n",
    "print(\"\\n===== OpenCL, mergesort of a float vector with size \", N, \"======\\n\")\n",
    "\n",
    "# Do the multiplication COUNT times\n",
    "for i in range(COUNT):\n",
    "    start_time = time()\n",
    "    merge_sort_gpu(queue, (N,), None, N, d_V, d_V_aux, d_V_result)\n",
    "    queue.finish()\n",
    "    run_time = time() - start_time\n",
    "    cl.enqueue_copy(queue, h_V, d_V_result)\n",
    "    results(N, h_V, run_time)\n",
    "    \n"
   ]
  },
  {
   "cell_type": "code",
   "execution_count": 7,
   "metadata": {},
   "outputs": [
    {
     "data": {
      "text/plain": [
       "array([7.812500e-03, 4.296875e-02, 8.496094e-02, ..., 9.999580e+02,\n",
       "       9.999756e+02, 9.999785e+02], dtype=float32)"
      ]
     },
     "execution_count": 7,
     "metadata": {},
     "output_type": "execute_result"
    }
   ],
   "source": [
    "h_V\n"
   ]
  },
  {
   "cell_type": "code",
   "execution_count": 29,
   "metadata": {},
   "outputs": [
    {
     "data": {
      "text/plain": [
       "array([405.84766 ,  25.07251 ,  30.884277, ..., 209.97314 , 833.3645  ,\n",
       "       694.2969  ], dtype=float32)"
      ]
     },
     "execution_count": 29,
     "metadata": {},
     "output_type": "execute_result"
    }
   ],
   "source": [
    "#implementação 2\n",
    "\n",
    "#Vector size\n",
    "ORDER = 32768\n",
    "\n",
    "# Max dim for NDRange\n",
    "DIM = 1\n",
    "\n",
    "# number of times to do each ordenation\n",
    "COUNT = 10\n",
    "\n",
    "N = ORDER\n",
    "\n",
    "#criar um vetor de valores inteiros aleatorios\n",
    "h_V = numpy.random.random(ORDER).astype(numpy.float32) * 10000\n",
    "h_V = h_V%1000\n",
    "\n",
    "def error(N, V):\n",
    "    err = 0;\n",
    "    for i in range(N-1):\n",
    "        if V[i] > V[i+1]:\n",
    "            return 1\n",
    "    return 0\n",
    "\n",
    "def results(N, C, run_time):\n",
    "    print(run_time, \"seconds\")\n",
    "    errsq = error(N, C)\n",
    "    if (errsq > 0):\n",
    "        print(\"Wrong ordenation:\")\n",
    "h_V"
   ]
  },
  {
   "cell_type": "code",
   "execution_count": 30,
   "metadata": {},
   "outputs": [
    {
     "name": "stdout",
     "output_type": "stream",
     "text": [
      "DEVICE [<pyopencl.Device 'GeForce RTX 2060 SUPER' on 'NVIDIA CUDA' at 0x1d417ec6b30>]\n"
     ]
    }
   ],
   "source": [
    "# Setup OpenCL\n",
    "context = cl.create_some_context()\n",
    "print(\"DEVICE\", context.devices)\n",
    "\n",
    "queue = cl.CommandQueue(context)\n",
    "\n",
    "d_V = cl.Buffer(context, cl.mem_flags.READ_ONLY | cl.mem_flags.COPY_HOST_PTR, hostbuf=h_V)\n",
    "d_V_aux = cl.Buffer(context, cl.mem_flags.WRITE_ONLY, h_V.nbytes)\n",
    "d_V_result = cl.Buffer(context, cl.mem_flags.WRITE_ONLY, h_V.nbytes)"
   ]
  },
  {
   "cell_type": "code",
   "execution_count": 31,
   "metadata": {},
   "outputs": [
    {
     "name": "stdout",
     "output_type": "stream",
     "text": [
      "<<<KERNEL SOURCE>>>\n",
      " /*\n",
      "\tFernando Sassi Nunes\n",
      "\tCodigo orinal do merge sort obtido em :\thttps://www.ime.usp.br/~pf/algoritmos/aulas/mrgsrt.html\n",
      "\tSegunda implementaÃ§Ã£o do Merge Sort paralela\n",
      "*/\n",
      "\n",
      "static void intercala (int p, int q, int r, float v[], float w[])\n",
      "{\n",
      "   int i, j;\n",
      "   for (i = p; i < q; ++i) w[i] = v[i];\n",
      "   for (j = q; j < r; ++j) w[r+q-j-1] = v[j];\t\t\t//escreve na ordem inversa\n",
      "   i = p; j = r-1;\n",
      "   for (int k = p; k < r; ++k)\n",
      "      if (w[i] <= w[j]) v[k] = w[i++];\n",
      "      else v[k] = w[j--];\n",
      "}\n",
      "\n",
      "void mergesort (int n, float v[], float w[])\t\t\t//mergesort original\n",
      "{\n",
      "   int b = 1;\n",
      "   while (b < n) {\n",
      "      int p = 0;\n",
      "      while (p + b < n) {\n",
      "         int r = p + 2*b;\n",
      "         if (r > n) r = n;\n",
      "         intercala (p, p+b, r, v, w);\n",
      "         p = p + 2*b; \n",
      "      }\n",
      "      b = 2*b;\n",
      "   }\n",
      "}\n",
      "\n",
      "__kernel void merge_sort_gpu(\n",
      "\t\t\t const int    N,\n",
      "    __global       float* R,\n",
      "\t__global       float* w,\n",
      "\t__global       float* V,\n",
      "\t\t\t const int num_threads)\n",
      "{\n",
      "    int p = get_global_id(0);\n",
      "\t//escreve em v os valores de R\n",
      "\tV[p] = R[p];\n",
      "\tbarrier(CLK_LOCAL_MEM_FENCE);\n",
      "\t\n",
      "\tif (p < num_threads) {\n",
      "\t\tint N_local = N/(num_threads);\t\t\t\t\t\t\t\t\t\t\n",
      "\t\tif (p == num_threads-1)\t\t\t\t\t\t\t\t\t\t\t\t//a ultima pode nao ter um valor exato\n",
      "\t\t\tN_local = N - (num_threads -1) * N_local;\n",
      "\t\tif (N_local > 1)\t\t\t\t\t\t\t\t\t\t\t\t\t\t\t//N_local Ã© um inteiro entao so entra se for 2 ou >\n",
      "\t\t\tmergesort(N_local, &V[p*N/num_threads], &w[p*N/num_threads]);\t\t\t//nao da para usar N_local pois a ultima thread pode ter valor diferente\n",
      "\t\t\n",
      "\t\tbarrier(CLK_LOCAL_MEM_FENCE);\n",
      "\t\t\n",
      "\t\tint current_size;\n",
      "\t\tif (N_local <= 1)\t\t\t\t\t\t\t\t\t\t\t\t//numero de threads Ã© suficiente para calcular apenas paralelamente\n",
      "\t\t\t current_size = 1;\n",
      "\t\telse {\n",
      "\t\t\tcurrent_size = N/(num_threads);\t\t\t\t\t\t\t\t//ajusta o tamanho pois boa parte ja foi ordenada\n",
      "\t\t\tp *= current_size;\n",
      "\t\t}\n",
      "\t\twhile (current_size < N) {\n",
      "\t\t\tif (p + current_size < N && (p)%(2*current_size) == 0) {\t//mantem apenas as threads que sÃ£o potencias de 2, \n",
      "\t\t\tint r = p + 2*current_size;\t\t\t\t\t\t\t\t\t//eliminando metade delas a cada iteraÃ§Ã£o\n",
      "\t\t\tif (r > N) r = N;\n",
      "\t\t\tintercala (p, p+current_size, r, V, w);\n",
      "        }\n",
      "\t\tbarrier(CLK_LOCAL_MEM_FENCE);\t\t\t\t\t\t\t\t\t//garante que todas as threads ordenaram a sua parte\n",
      "\t\t\tcurrent_size = 2*current_size;\n",
      "\t\t}\n",
      "\t\t\n",
      "\t\n",
      "\t}\n",
      "}\n",
      "   \n",
      "\n",
      "\n",
      "===== OpenCL, mergesort of a float vector with size  32768  and with  2048  threads  ======\n",
      "\n",
      "0.007978200912475586 seconds\n",
      "0.006981372833251953 seconds\n",
      "0.0069811344146728516 seconds\n",
      "0.005984067916870117 seconds\n",
      "0.005984067916870117 seconds\n",
      "0.006981372833251953 seconds\n",
      "0.006981372833251953 seconds\n",
      "0.0069811344146728516 seconds\n",
      "0.006981611251831055 seconds\n",
      "0.006981372833251953 seconds\n"
     ]
    }
   ],
   "source": [
    "kernelsource = open(\"merge2.cl\").read()\n",
    "print(\"<<<KERNEL SOURCE>>>\\n\", kernelsource)\n",
    "\n",
    "#numero maximo de threads usadas\n",
    "num_threads = 2048\n",
    "\n",
    "program = cl.Program(context, kernelsource).build()\n",
    "merge_sort_gpu = program.merge_sort_gpu\n",
    "merge_sort_gpu.set_scalar_arg_dtypes([numpy.int32, None, None, None, numpy.int32])\n",
    "print(\"\\n===== OpenCL, mergesort of a float vector with size \", N, \" and with \",num_threads, \" threads \" , \"======\\n\")\n",
    "\n",
    "\n",
    "# Do the multiplication COUNT times\n",
    "for i in range(COUNT):\n",
    "    start_time = time()\n",
    "    merge_sort_gpu(queue, (N,), None, N, d_V, d_V_aux, d_V_result, num_threads)\n",
    "    queue.finish()\n",
    "    run_time = time() - start_time\n",
    "    cl.enqueue_copy(queue, h_V, d_V_result)\n",
    "    results(N, h_V, run_time)\n",
    "    "
   ]
  },
  {
   "cell_type": "code",
   "execution_count": 25,
   "metadata": {},
   "outputs": [
    {
     "data": {
      "text/plain": [
       "array([1.0009766e-02, 6.6406250e-02, 6.7138672e-02, ..., 9.9987952e+02,\n",
       "       9.9994824e+02, 9.9995508e+02], dtype=float32)"
      ]
     },
     "execution_count": 25,
     "metadata": {},
     "output_type": "execute_result"
    }
   ],
   "source": [
    "h_V"
   ]
  },
  {
   "cell_type": "code",
   "execution_count": null,
   "metadata": {},
   "outputs": [],
   "source": []
  }
 ],
 "metadata": {
  "kernelspec": {
   "display_name": "Python 3",
   "language": "python",
   "name": "python3"
  },
  "language_info": {
   "codemirror_mode": {
    "name": "ipython",
    "version": 3
   },
   "file_extension": ".py",
   "mimetype": "text/x-python",
   "name": "python",
   "nbconvert_exporter": "python",
   "pygments_lexer": "ipython3",
   "version": "3.7.3"
  }
 },
 "nbformat": 4,
 "nbformat_minor": 4
}
