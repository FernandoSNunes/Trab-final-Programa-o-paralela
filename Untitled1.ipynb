{
 "cells": [
  {
   "cell_type": "code",
   "execution_count": 9,
   "metadata": {},
   "outputs": [],
   "source": [
    "from time import time\n",
    "import pyopencl as cl\n",
    "import numpy\n",
    "import os\n",
    "import math\n"
   ]
  },
  {
   "cell_type": "code",
   "execution_count": 2,
   "metadata": {},
   "outputs": [],
   "source": [
    "#https://www.geeksforgeeks.org/iterative-merge-sort/\n",
    "\n",
    "# Iterative mergesort function to  \n",
    "# sort arr[0...n-1]  \n",
    "def mergeSort(a):  \n",
    "      \n",
    "    current_size = 1\n",
    "      \n",
    "    # Outer loop for traversing Each  \n",
    "    # sub array of current_size  \n",
    "    while current_size < len(a) - 1:  \n",
    "          \n",
    "        left = 0\n",
    "        # Inner loop for merge call  \n",
    "        # in a sub array  \n",
    "        # Each complete Iteration sorts  \n",
    "        # the iterating sub array  \n",
    "        while left < len(a)-1:  \n",
    "              \n",
    "            # mid index = left index of  \n",
    "            # sub array + current sub  \n",
    "            # array size - 1  \n",
    "            mid = min((left + current_size - 1),(len(a)-1)) \n",
    "              \n",
    "            # (False result,True result)  \n",
    "            # [Condition] Can use current_size  \n",
    "            # if 2 * current_size < len(a)-1  \n",
    "            # else len(a)-1  \n",
    "            right = ((2 * current_size + left - 1,  \n",
    "                    len(a) - 1)[2 * current_size  \n",
    "                        + left - 1 > len(a)-1])  \n",
    "                              \n",
    "            # Merge call for each sub array  \n",
    "            merge(a, left, mid, right)  \n",
    "            left = left + current_size*2\n",
    "              \n",
    "        # Increasing sub array size by  \n",
    "        # multiple of 2  \n",
    "        current_size = 2 * current_size  \n",
    "        \n",
    "# Merge Function  \n",
    "def merge(a, l, m, r):  \n",
    "    n1 = m - l + 1\n",
    "    n2 = r - m  \n",
    "    L = [0] * n1  \n",
    "    R = [0] * n2  \n",
    "    for i in range(0, n1):  \n",
    "        L[i] = a[l + i]  \n",
    "    for i in range(0, n2):  \n",
    "        R[i] = a[m + i + 1]  \n",
    "  \n",
    "    i, j, k = 0, 0, l  \n",
    "    while i < n1 and j < n2:  \n",
    "        if L[i] > R[j]:  \n",
    "            a[k] = R[j]  \n",
    "            j += 1\n",
    "        else:  \n",
    "            a[k] = L[i]  \n",
    "            i += 1\n",
    "        k += 1\n",
    "  \n",
    "    while i < n1:  \n",
    "        a[k] = L[i]  \n",
    "        i += 1\n",
    "        k += 1\n",
    "  \n",
    "    while j < n2:  \n",
    "        a[k] = R[j]  \n",
    "        j += 1\n",
    "        k += 1\n",
    "  \n",
    " "
   ]
  },
  {
   "cell_type": "code",
   "execution_count": 3,
   "metadata": {},
   "outputs": [
    {
     "name": "stdout",
     "output_type": "stream",
     "text": [
      "Given array is \n",
      "[12, 11, 13, 5, 6, 7]\n",
      "Sorted array is \n",
      "[5, 6, 7, 11, 12, 13]\n"
     ]
    }
   ],
   "source": [
    " \n",
    "# Driver code  \n",
    "a = [12, 11, 13, 5, 6, 7] \n",
    "print(\"Given array is \")  \n",
    "print(a)  \n",
    "  \n",
    "mergeSort(a)  \n",
    "  \n",
    "print(\"Sorted array is \")  \n",
    "print(a)  "
   ]
  },
  {
   "cell_type": "code",
   "execution_count": 96,
   "metadata": {},
   "outputs": [
    {
     "data": {
      "text/plain": [
       "array([594.2993  , 409.68457 , 598.1548  , 509.32324 ,  25.934082,\n",
       "       939.6909  , 591.0449  , 557.1323  ], dtype=float32)"
      ]
     },
     "execution_count": 96,
     "metadata": {},
     "output_type": "execute_result"
    }
   ],
   "source": [
    "#Vector size\n",
    "ORDER = 8\n",
    "\n",
    "# Max dim for NDRange\n",
    "DIM = 1\n",
    "\n",
    "# number of times to do each ordenation\n",
    "COUNT = 10\n",
    "\n",
    "N = ORDER\n",
    "\n",
    "#criar um vetor de valores inteiros aleatorios\n",
    "h_V = numpy.random.random(ORDER).astype(numpy.float32) * 10000\n",
    "h_V = h_V%1000\n",
    "\n",
    "def error(N, V):\n",
    "    err = 0;\n",
    "    for i in range(N-1):\n",
    "        if V[i] > V[i+1]:\n",
    "            return 1\n",
    "    return 0\n",
    "\n",
    "def results(N, C, run_time):\n",
    "    print(run_time, \"seconds\")\n",
    "    errsq = error(N, C)\n",
    "    if (errsq > 0):\n",
    "        print(\"Wrong ordenation:\")\n",
    "h_V"
   ]
  },
  {
   "cell_type": "code",
   "execution_count": 97,
   "metadata": {},
   "outputs": [
    {
     "name": "stdout",
     "output_type": "stream",
     "text": [
      "DEVICE [<pyopencl.Device 'GeForce RTX 2060 SUPER' on 'NVIDIA CUDA' at 0x1c4be7fc9e0>]\n"
     ]
    }
   ],
   "source": [
    "# Setup OpenCL\n",
    "context = cl.create_some_context()\n",
    "print(\"DEVICE\", context.devices)\n",
    "\n",
    "queue = cl.CommandQueue(context)\n",
    "\n",
    "d_V = cl.Buffer(context, cl.mem_flags.READ_ONLY | cl.mem_flags.COPY_HOST_PTR, hostbuf=h_V)\n",
    "d_V_aux = cl.Buffer(context, cl.mem_flags.WRITE_ONLY, h_V.nbytes)\n",
    "d_V_result = cl.Buffer(context, cl.mem_flags.WRITE_ONLY, h_V.nbytes)"
   ]
  },
  {
   "cell_type": "code",
   "execution_count": 98,
   "metadata": {},
   "outputs": [
    {
     "name": "stdout",
     "output_type": "stream",
     "text": [
      "<<<KERNEL SOURCE>>>\n",
      " static void intercala (int p, int q, int r, float v[], float w[])\n",
      "{\n",
      "   int i, j;\n",
      "   //w = malloc ((r-p) * sizeof (float));\n",
      "\n",
      "   for (i = p; i < q; ++i) w[i-p] = v[i];\n",
      "   for (j = q; j < r; ++j) w[r-p+q-j-1] = v[j];\n",
      "   i = 0; j = r-p-1;\n",
      "   for (int k = p; k < r; ++k)\n",
      "      if (w[i] <= w[j]) v[k] = w[i++];\n",
      "      else v[k] = w[j--];\n",
      "}\n",
      "\n",
      "\n",
      "__kernel void merge_sort_gpu(\n",
      "\t\t\t const int    N,\n",
      "    __global       float* R,\n",
      "\t__global       float* w,\n",
      "\t__global       float* V)\n",
      "{\n",
      "\t\n",
      "    int p = get_global_id(0);\n",
      "\t//escreve em v os valores de R\n",
      "\tV[p] = R[p];\n",
      "\tbarrier(CLK_LOCAL_MEM_FENCE);\n",
      "\t\n",
      "    int current_size = 1;\n",
      "\twhile (current_size < N) {\n",
      "      if (p + current_size < N && p == p + 2*current_size) {\n",
      "         int r = p + 2*current_size;\n",
      "         if (r > N) r = N;\n",
      "         intercala (p, p+current_size, r, V, w);\n",
      "        }\n",
      "\t\tbarrier(CLK_LOCAL_MEM_FENCE);\n",
      "\t\tcurrent_size = 2*current_size;\n",
      "    }\n",
      "}\n",
      "   \n",
      "\n",
      "\n",
      "===== OpenCL, mergesort of a float vector with size  8 ======\n",
      "\n",
      "0.0 seconds\n",
      "Wrong ordenation:\n",
      "0.0 seconds\n",
      "Wrong ordenation:\n",
      "0.0 seconds\n",
      "Wrong ordenation:\n",
      "0.0 seconds\n",
      "Wrong ordenation:\n",
      "0.0 seconds\n",
      "Wrong ordenation:\n",
      "0.0 seconds\n",
      "Wrong ordenation:\n",
      "0.0 seconds\n",
      "Wrong ordenation:\n",
      "0.0 seconds\n",
      "Wrong ordenation:\n",
      "0.0 seconds\n",
      "Wrong ordenation:\n",
      "0.0 seconds\n",
      "Wrong ordenation:\n"
     ]
    }
   ],
   "source": [
    "kernelsource = open(\"merge.cl\").read()\n",
    "print(\"<<<KERNEL SOURCE>>>\\n\", kernelsource)\n",
    "\n",
    "program = cl.Program(context, kernelsource).build()\n",
    "merge_sort_gpu = program.merge_sort_gpu\n",
    "merge_sort_gpu.set_scalar_arg_dtypes([numpy.int32, None, None, None])\n",
    "print(\"\\n===== OpenCL, mergesort of a float vector with size \", N, \"======\\n\")\n",
    "\n",
    "# Do the multiplication COUNT times\n",
    "for i in range(COUNT):\n",
    "    start_time = time()\n",
    "    merge_sort_gpu(queue, (N,), None, N, d_V, d_V_aux, d_V_result)\n",
    "    queue.finish()\n",
    "    run_time = time() - start_time\n",
    "    cl.enqueue_copy(queue, h_V, d_V_result)\n",
    "    results(N, h_V, run_time)\n",
    "    \n"
   ]
  },
  {
   "cell_type": "code",
   "execution_count": 92,
   "metadata": {},
   "outputs": [
    {
     "data": {
      "text/plain": [
       "array([249.4961 , 885.38403, 885.38403, 885.38403, 885.38403, 885.38403,\n",
       "       885.38403, 885.38403], dtype=float32)"
      ]
     },
     "execution_count": 92,
     "metadata": {},
     "output_type": "execute_result"
    }
   ],
   "source": [
    "h_V"
   ]
  },
  {
   "cell_type": "code",
   "execution_count": null,
   "metadata": {},
   "outputs": [],
   "source": []
  }
 ],
 "metadata": {
  "kernelspec": {
   "display_name": "Python 3",
   "language": "python",
   "name": "python3"
  },
  "language_info": {
   "codemirror_mode": {
    "name": "ipython",
    "version": 3
   },
   "file_extension": ".py",
   "mimetype": "text/x-python",
   "name": "python",
   "nbconvert_exporter": "python",
   "pygments_lexer": "ipython3",
   "version": "3.7.3"
  }
 },
 "nbformat": 4,
 "nbformat_minor": 4
}
