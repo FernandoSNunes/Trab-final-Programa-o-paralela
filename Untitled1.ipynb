{
 "cells": [
  {
   "cell_type": "code",
   "execution_count": 9,
   "metadata": {},
   "outputs": [],
   "source": [
    "from time import time\n",
    "import pyopencl as cl\n",
    "import numpy\n",
    "import os\n",
    "import math\n"
   ]
  },
  {
   "cell_type": "code",
   "execution_count": null,
   "metadata": {},
   "outputs": [],
   "source": [
    "#codigo original em https://www.ime.usp.br/~pf/algoritmos/aulas/mrgsrt.html"
   ]
  },
  {
   "cell_type": "code",
   "execution_count": null,
   "metadata": {},
   "outputs": [],
   "source": []
  },
  {
   "cell_type": "code",
   "execution_count": 310,
   "metadata": {},
   "outputs": [
    {
     "data": {
      "text/plain": [
       "array([432.6592  , 767.84326 , 341.18457 , ..., 117.112305, 304.88477 ,\n",
       "       766.4541  ], dtype=float32)"
      ]
     },
     "execution_count": 310,
     "metadata": {},
     "output_type": "execute_result"
    }
   ],
   "source": [
    "#Vector size\n",
    "ORDER = 32768\n",
    "\n",
    "# Max dim for NDRange\n",
    "DIM = 1\n",
    "\n",
    "# number of times to do each ordenation\n",
    "COUNT = 10\n",
    "\n",
    "N = ORDER\n",
    "\n",
    "#criar um vetor de valores inteiros aleatorios\n",
    "h_V = numpy.random.random(ORDER).astype(numpy.float32) * 10000\n",
    "h_V = h_V%1000\n",
    "\n",
    "def error(N, V):\n",
    "    err = 0;\n",
    "    for i in range(N-1):\n",
    "        if V[i] > V[i+1]:\n",
    "            return 1\n",
    "    return 0\n",
    "\n",
    "def results(N, C, run_time):\n",
    "    print(run_time, \"seconds\")\n",
    "    errsq = error(N, C)\n",
    "    if (errsq > 0):\n",
    "        print(\"Wrong ordenation:\")\n",
    "h_V"
   ]
  },
  {
   "cell_type": "code",
   "execution_count": 311,
   "metadata": {},
   "outputs": [
    {
     "name": "stdout",
     "output_type": "stream",
     "text": [
      "DEVICE [<pyopencl.Device 'GeForce RTX 2060 SUPER' on 'NVIDIA CUDA' at 0x1c4be7fc9e0>]\n"
     ]
    }
   ],
   "source": [
    "# Setup OpenCL\n",
    "context = cl.create_some_context()\n",
    "print(\"DEVICE\", context.devices)\n",
    "\n",
    "queue = cl.CommandQueue(context)\n",
    "\n",
    "d_V = cl.Buffer(context, cl.mem_flags.READ_ONLY | cl.mem_flags.COPY_HOST_PTR, hostbuf=h_V)\n",
    "d_V_aux = cl.Buffer(context, cl.mem_flags.WRITE_ONLY, h_V.nbytes)\n",
    "d_V_result = cl.Buffer(context, cl.mem_flags.WRITE_ONLY, h_V.nbytes)"
   ]
  },
  {
   "cell_type": "code",
   "execution_count": 312,
   "metadata": {},
   "outputs": [
    {
     "name": "stdout",
     "output_type": "stream",
     "text": [
      "<<<KERNEL SOURCE>>>\n",
      " static void intercala (int p, int q, int r, float v[], float w[])\n",
      "{\n",
      "   int i, j;\n",
      "   //w = malloc ((r-p) * sizeof (float));\n",
      "\n",
      "   for (i = p; i < q; ++i) w[i] = v[i];\n",
      "   for (j = q; j < r; ++j) w[r+q-j-1] = v[j];\n",
      "   i = p; j = r-1;\n",
      "   for (int k = p; k < r; ++k)\n",
      "      if (w[i] <= w[j]) v[k] = w[i++];\n",
      "      else v[k] = w[j--];\n",
      "}\n",
      "\n",
      "\n",
      "__kernel void merge_sort_gpu(\n",
      "\t\t\t const int    N,\n",
      "    __global       float* R,\n",
      "\t__global       float* w,\n",
      "\t__global       float* V)\n",
      "{\n",
      "\t\n",
      "    int p = get_global_id(0);\n",
      "\t//escreve em v os valores de R\n",
      "\tV[p] = R[p];\n",
      "\tbarrier(CLK_LOCAL_MEM_FENCE);\n",
      "\t\n",
      "    int current_size = 1;\n",
      "\twhile (current_size < N) {\n",
      "      if (p + current_size < N && (p)%(2*current_size) == 0) {\n",
      "         int r = p + 2*current_size;\n",
      "         if (r > N) r = N;\n",
      "         intercala (p, p+current_size, r, V, w);\n",
      "        }\n",
      "\t\tbarrier(CLK_LOCAL_MEM_FENCE);\n",
      "\t\tcurrent_size = 2*current_size;\n",
      "    }\n",
      "}\n",
      "   \n",
      "\n",
      "\n",
      "===== OpenCL, mergesort of a float vector with size  32768 ======\n",
      "\n",
      "0.006980180740356445 seconds\n",
      "0.0069811344146728516 seconds\n",
      "0.005983829498291016 seconds\n",
      "0.006981372833251953 seconds\n",
      "0.005983829498291016 seconds\n",
      "0.005983829498291016 seconds\n",
      "0.006981372833251953 seconds\n",
      "0.006981372833251953 seconds\n",
      "0.006981611251831055 seconds\n",
      "0.005983829498291016 seconds\n"
     ]
    }
   ],
   "source": [
    "kernelsource = open(\"merge.cl\").read()\n",
    "print(\"<<<KERNEL SOURCE>>>\\n\", kernelsource)\n",
    "\n",
    "program = cl.Program(context, kernelsource).build()\n",
    "merge_sort_gpu = program.merge_sort_gpu\n",
    "merge_sort_gpu.set_scalar_arg_dtypes([numpy.int32, None, None, None])\n",
    "print(\"\\n===== OpenCL, mergesort of a float vector with size \", N, \"======\\n\")\n",
    "\n",
    "# Do the multiplication COUNT times\n",
    "for i in range(COUNT):\n",
    "    start_time = time()\n",
    "    merge_sort_gpu(queue, (N,), None, N, d_V, d_V_aux, d_V_result)\n",
    "    queue.finish()\n",
    "    run_time = time() - start_time\n",
    "    cl.enqueue_copy(queue, h_V, d_V_result)\n",
    "    results(N, h_V, run_time)\n",
    "    \n"
   ]
  },
  {
   "cell_type": "code",
   "execution_count": 313,
   "metadata": {},
   "outputs": [
    {
     "data": {
      "text/plain": [
       "array([1.3427734e-02, 1.6113281e-02, 2.7343750e-02, ..., 9.9989893e+02,\n",
       "       9.9990430e+02, 9.9998962e+02], dtype=float32)"
      ]
     },
     "execution_count": 313,
     "metadata": {},
     "output_type": "execute_result"
    }
   ],
   "source": [
    "h_V"
   ]
  },
  {
   "cell_type": "code",
   "execution_count": 261,
   "metadata": {},
   "outputs": [
    {
     "data": {
      "text/plain": [
       "array([925.00244, 307.312  , 358.79858, ..., 760.30566, 529.5737 ,\n",
       "       408.61768], dtype=float32)"
      ]
     },
     "execution_count": 261,
     "metadata": {},
     "output_type": "execute_result"
    }
   ],
   "source": [
    "#Vector size\n",
    "ORDER = 32768\n",
    "\n",
    "# Max dim for NDRange\n",
    "DIM = 1\n",
    "\n",
    "# number of times to do each ordenation\n",
    "COUNT = 10\n",
    "\n",
    "N = ORDER\n",
    "\n",
    "#criar um vetor de valores inteiros aleatorios\n",
    "h_V = numpy.random.random(ORDER).astype(numpy.float32) * 10000\n",
    "h_V = h_V%1000\n",
    "\n",
    "def error(N, V):\n",
    "    err = 0;\n",
    "    for i in range(N-1):\n",
    "        if V[i] > V[i+1]:\n",
    "            return 1\n",
    "    return 0\n",
    "\n",
    "def results(N, C, run_time):\n",
    "    print(run_time, \"seconds\")\n",
    "    errsq = error(N, C)\n",
    "    if (errsq > 0):\n",
    "        print(\"Wrong ordenation:\")\n",
    "h_V"
   ]
  },
  {
   "cell_type": "code",
   "execution_count": 262,
   "metadata": {},
   "outputs": [
    {
     "name": "stdout",
     "output_type": "stream",
     "text": [
      "DEVICE [<pyopencl.Device 'GeForce RTX 2060 SUPER' on 'NVIDIA CUDA' at 0x1c4be7fc9e0>]\n"
     ]
    }
   ],
   "source": [
    "# Setup OpenCL\n",
    "context = cl.create_some_context()\n",
    "print(\"DEVICE\", context.devices)\n",
    "\n",
    "queue = cl.CommandQueue(context)\n",
    "\n",
    "d_V = cl.Buffer(context, cl.mem_flags.READ_ONLY | cl.mem_flags.COPY_HOST_PTR, hostbuf=h_V)\n",
    "d_V_aux = cl.Buffer(context, cl.mem_flags.WRITE_ONLY, h_V.nbytes)\n",
    "d_V_result = cl.Buffer(context, cl.mem_flags.WRITE_ONLY, h_V.nbytes)"
   ]
  },
  {
   "cell_type": "code",
   "execution_count": 266,
   "metadata": {},
   "outputs": [
    {
     "name": "stdout",
     "output_type": "stream",
     "text": [
      "<<<KERNEL SOURCE>>>\n",
      " static void intercala (int p, int q, int r, float v[], float w[])\n",
      "{\n",
      "   int i, j;\n",
      "   //w = malloc ((r-p) * sizeof (float));\n",
      "\n",
      "   for (i = p; i < q; ++i) w[i] = v[i];\n",
      "   for (j = q; j < r; ++j) w[r+q-j-1] = v[j];\n",
      "   i = p; j = r-1;\n",
      "   for (int k = p; k < r; ++k)\n",
      "      if (w[i] <= w[j]) v[k] = w[i++];\n",
      "      else v[k] = w[j--];\n",
      "}\n",
      "\n",
      "void mergesort (int n, float v[], float w[])\n",
      "{\n",
      "   int b = 1;\n",
      "   while (b < n) {\n",
      "      int p = 0;\n",
      "      while (p + b < n) {\n",
      "         int r = p + 2*b;\n",
      "         if (r > n) r = n;\n",
      "         intercala (p, p+b, r, v, w);\n",
      "         p = p + 2*b; \n",
      "      }\n",
      "      b = 2*b;\n",
      "   }\n",
      "}\n",
      "\n",
      "__kernel void merge_sort_gpu(\n",
      "\t\t\t const int    N,\n",
      "    __global       float* R,\n",
      "\t__global       float* w,\n",
      "\t__global       float* V,\n",
      "\t\t\t const int num_threads)\n",
      "{\n",
      "    int p = get_global_id(0);\n",
      "\t//escreve em v os valores de R\n",
      "\tV[p] = R[p];\n",
      "\tbarrier(CLK_LOCAL_MEM_FENCE);\n",
      "\t\n",
      "\tif (p < num_threads) {\n",
      "\t\tint N_local = N/(num_threads);\t\t\t\t\t\t\t\t\t\t\n",
      "\t\tif (p == num_threads-1)\n",
      "\t\t\tN_local = N - (num_threads -1) * N_local;\n",
      "\t\tif (N_local > 1)\t\t\t\t\t\t\t\t\t\t\t\t\t\t\t\n",
      "\t\t\tmergesort(N_local, &V[p*N/num_threads], &w[p*N/num_threads]);\t\t\t//nao da para usar N_local pois a ultima thread pode ter valor diferente\n",
      "\t\t\n",
      "\t\tbarrier(CLK_LOCAL_MEM_FENCE);\n",
      "\t\t\n",
      "\t\tint current_size;\n",
      "\t\tif (N_local <= 1)\n",
      "\t\t\t current_size = 1;\n",
      "\t\telse {\n",
      "\t\t\tcurrent_size = N/(num_threads);\n",
      "\t\t\tp *= current_size;\n",
      "\t\t}\n",
      "\t\twhile (current_size < N) {\n",
      "\t\t  if (p + current_size < N && (p)%(2*current_size) == 0) {\n",
      "\t\t\t int r = p + 2*current_size;\n",
      "\t\t\t if (r > N) r = N;\n",
      "\t\t\t intercala (p, p+current_size, r, V, w);\n",
      "\t\t\t}\n",
      "\t\t\tbarrier(CLK_LOCAL_MEM_FENCE);\n",
      "\t\t\tcurrent_size = 2*current_size;\n",
      "\t\t}\n",
      "\t\t\n",
      "\t\n",
      "\t}\n",
      "}\n",
      "   \n",
      "\n",
      "\n",
      "===== OpenCL, mergesort of a float vector with size  32768 ======\n",
      "\n",
      "0.006981372833251953 seconds\n",
      "0.008975982666015625 seconds\n",
      "0.0069811344146728516 seconds\n",
      "0.005984067916870117 seconds\n",
      "0.0069811344146728516 seconds\n",
      "0.005984306335449219 seconds\n",
      "0.006981611251831055 seconds\n",
      "0.005984067916870117 seconds\n",
      "0.005983829498291016 seconds\n",
      "0.005984067916870117 seconds\n"
     ]
    }
   ],
   "source": [
    "kernelsource = open(\"merge2.cl\").read()\n",
    "print(\"<<<KERNEL SOURCE>>>\\n\", kernelsource)\n",
    "\n",
    "program = cl.Program(context, kernelsource).build()\n",
    "merge_sort_gpu = program.merge_sort_gpu\n",
    "merge_sort_gpu.set_scalar_arg_dtypes([numpy.int32, None, None, None, numpy.int32])\n",
    "print(\"\\n===== OpenCL, mergesort of a float vector with size \", N, \"======\\n\")\n",
    "\n",
    "#numero maximo de threads usadas\n",
    "num_threads = 2048\n",
    "\n",
    "# Do the multiplication COUNT times\n",
    "for i in range(COUNT):\n",
    "    start_time = time()\n",
    "    merge_sort_gpu(queue, (N,), None, N, d_V, d_V_aux, d_V_result, num_threads)\n",
    "    queue.finish()\n",
    "    run_time = time() - start_time\n",
    "    cl.enqueue_copy(queue, h_V, d_V_result)\n",
    "    results(N, h_V, run_time)\n",
    "    "
   ]
  },
  {
   "cell_type": "code",
   "execution_count": 259,
   "metadata": {},
   "outputs": [
    {
     "data": {
      "text/plain": [
       "array([3.5595703e-01, 1.2592773e+00, 1.4374871e+00, ..., 9.9991479e+02,\n",
       "       9.9996265e+02, 9.9997498e+02], dtype=float32)"
      ]
     },
     "execution_count": 259,
     "metadata": {},
     "output_type": "execute_result"
    }
   ],
   "source": [
    "h_V"
   ]
  },
  {
   "cell_type": "code",
   "execution_count": null,
   "metadata": {},
   "outputs": [],
   "source": []
  }
 ],
 "metadata": {
  "kernelspec": {
   "display_name": "Python 3",
   "language": "python",
   "name": "python3"
  },
  "language_info": {
   "codemirror_mode": {
    "name": "ipython",
    "version": 3
   },
   "file_extension": ".py",
   "mimetype": "text/x-python",
   "name": "python",
   "nbconvert_exporter": "python",
   "pygments_lexer": "ipython3",
   "version": "3.7.3"
  }
 },
 "nbformat": 4,
 "nbformat_minor": 4
}
