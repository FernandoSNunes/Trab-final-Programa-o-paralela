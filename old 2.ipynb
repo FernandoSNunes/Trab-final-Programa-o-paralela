{
 "cells": [
  {
   "cell_type": "code",
   "execution_count": 1,
   "metadata": {},
   "outputs": [],
   "source": [
    "%matplotlib inline\n",
    "import matplotlib.pyplot as plt\n",
    "import numpy\n",
    "import scipy.ndimage as ndi\n",
    "from time import time\n",
    "import pyopencl as cl\n",
    "import pandas as pd\n",
    "import os"
   ]
  },
  {
   "cell_type": "code",
   "execution_count": 11,
   "metadata": {},
   "outputs": [],
   "source": [
    "# tolerance used in floating point comparisons\n",
    "TOL = 0.001\n",
    "\n",
    "# Max dim for NDRange\n",
    "DIM = 2\n",
    "\n",
    "# number of times to do each multiplication\n",
    "COUNT = 10\n",
    "\n",
    "def results(N, C, run_time):\n",
    "    mflops = 2.0 * N * N * N/(1000000.0* run_time)\n",
    "    print(run_time, \"seconds at\", mflops, \"MFLOPS\")\n",
    "                #to do\n",
    "    #errsq = error(N, C)\n",
    "    #if (errsq > TOL):\n",
    "    #    print(\"Errors in multiplication:\", errsq)\n",
    "\n",
    "#tamanho do filtro        \n",
    "window_size = 7\n",
    "#ler a imagem\n",
    "h_img = numpy.zeros((1000,1000)).astype(numpy.float32)\n",
    "h_img[20:600,0:250] = 255\n",
    "h_img[0:400,250:500] = 255\n",
    "h_img[130:740,500:750] = 255\n",
    "h_img[:,750:] = 255\n",
    "h_img += 40*numpy.random.rand(1000, 1000)\n",
    "N = h_img.shape[0]\n",
    "#imagem tem formato 256x256\n",
    "sigma_dist=2\n",
    "sigma_int=50\n",
    "radius = window_size//2\n",
    "\n",
    "h_img_smooth = numpy.empty(N*N).astype(numpy.float32)\n",
    "\n"
   ]
  },
  {
   "cell_type": "code",
   "execution_count": 4,
   "metadata": {},
   "outputs": [
    {
     "name": "stdout",
     "output_type": "stream",
     "text": [
      "DEVICE [<pyopencl.Device 'GeForce RTX 2060 SUPER' on 'NVIDIA CUDA' at 0x15f24856360>]\n"
     ]
    }
   ],
   "source": [
    "# Setup OpenCL\n",
    "context = cl.create_some_context()\n",
    "print(\"DEVICE\", context.devices)\n",
    "\n",
    "queue = cl.CommandQueue(context)\n",
    "\n",
    "# Create OpenCL buffers\n",
    "d_img = cl.Buffer(context, cl.mem_flags.READ_ONLY | cl.mem_flags.COPY_HOST_PTR, hostbuf=h_img)\n",
    "d_img_smooth = cl.Buffer(context, cl.mem_flags.WRITE_ONLY, h_img_smooth.nbytes)"
   ]
  },
  {
   "cell_type": "code",
   "execution_count": 14,
   "metadata": {
    "scrolled": false
   },
   "outputs": [
    {
     "name": "stdout",
     "output_type": "stream",
     "text": [
      "<<<KERNEL SOURCE>>>\n",
      " __kernel void bilateral_filter(\n",
      "            const unsigned int    x_img,\n",
      "            const unsigned int    y_img,\n",
      "            const float    radius,\n",
      "            const float    sigma_dist,\n",
      "            __global       float* dist_weights)\n",
      "{\n",
      "    int i = get_global_id(0);\n",
      "    int j = get_global_id(1);\n",
      "    if ((i < x_img) && (j < y_img)){\n",
      "        dist_weights[i*x_img + j] = exp(0-((i - radius) * (i-radius) + (j-radius) * (j - radius)) / 2 * (sigma_dist*sigma_dist));\n",
      "    }\n",
      "}\n",
      "    \n",
      "\n",
      "\n",
      "==== Image smooth by bilateral filter, order 1000 on device ======\n",
      "\n"
     ]
    }
   ],
   "source": [
    "\n",
    "kernelsource = open(\"dist_weights.cl\").read()\n",
    "print(\"<<<KERNEL SOURCE>>>\\n\", kernelsource)\n",
    "\n",
    "program = cl.Program(context, kernelsource).build()\n",
    "BlF = program.bilateral_filter\n",
    "BlF.set_scalar_arg_dtypes([numpy.int32, numpy.int32, numpy.float32, numpy.float32, None])\n",
    "print(\"\\n==== Image smooth by bilateral filter, order\", N, \"on device ======\\n\")\n",
    "\n",
    "# Do the multiplication COUNT times\n",
    "for i in range(COUNT):\n",
    "    h_img_smooth.fill(0.0)\n",
    "    start_time = time()\n",
    "    BlF(queue, (N,N), None, N, N,\n",
    "        radius, sigma_dist, d_img_smooth)\n",
    "    queue.finish()\n",
    "    run_time = time() - start_time\n",
    "    cl.enqueue_copy(queue, h_img_smooth, d_img_smooth)\n",
    "    #results(N, h_img_smooth, run_time)\n"
   ]
  },
  {
   "cell_type": "code",
   "execution_count": 16,
   "metadata": {},
   "outputs": [
    {
     "ename": "IndexError",
     "evalue": "too many indices for array",
     "output_type": "error",
     "traceback": [
      "\u001b[1;31m---------------------------------------------------------------------------\u001b[0m",
      "\u001b[1;31mIndexError\u001b[0m                                Traceback (most recent call last)",
      "\u001b[1;32m<ipython-input-16-c8f2119b9b4f>\u001b[0m in \u001b[0;36m<module>\u001b[1;34m\u001b[0m\n\u001b[1;32m----> 1\u001b[1;33m \u001b[0mh_img_smooth\u001b[0m\u001b[1;33m[\u001b[0m\u001b[1;36m0\u001b[0m\u001b[1;33m:\u001b[0m\u001b[1;36m7\u001b[0m\u001b[1;33m,\u001b[0m\u001b[1;36m0\u001b[0m\u001b[1;33m:\u001b[0m\u001b[1;36m7\u001b[0m\u001b[1;33m]\u001b[0m\u001b[1;33m\u001b[0m\u001b[1;33m\u001b[0m\u001b[0m\n\u001b[0m",
      "\u001b[1;31mIndexError\u001b[0m: too many indices for array"
     ]
    }
   ],
   "source": [
    "\n",
    "    h_img_smooth[0:7,0:7]"
   ]
  },
  {
   "cell_type": "code",
   "execution_count": null,
   "metadata": {},
   "outputs": [],
   "source": []
  }
 ],
 "metadata": {
  "kernelspec": {
   "display_name": "Python 3",
   "language": "python",
   "name": "python3"
  },
  "language_info": {
   "codemirror_mode": {
    "name": "ipython",
    "version": 3
   },
   "file_extension": ".py",
   "mimetype": "text/x-python",
   "name": "python",
   "nbconvert_exporter": "python",
   "pygments_lexer": "ipython3",
   "version": "3.7.3"
  }
 },
 "nbformat": 4,
 "nbformat_minor": 4
}
